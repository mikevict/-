{
 "cells": [
  {
   "cell_type": "code",
   "execution_count": null,
   "metadata": {
    "execution": {
     "iopub.execute_input": "2022-11-23T11:23:12.462170Z",
     "iopub.status.busy": "2022-11-23T11:23:12.460907Z",
     "iopub.status.idle": "2022-11-23T11:23:13.348784Z",
     "shell.execute_reply": "2022-11-23T11:23:13.347668Z",
     "shell.execute_reply.started": "2022-11-23T11:23:12.462062Z"
    }
   },
   "outputs": [],
   "source": [
    "import torch.nn as nn\n",
    "import torch.nn.functional as F\n",
    "import os\n",
    "from torchvision import transforms,datasets\n",
    "from torch.utils.data import Dataset, DataLoader\n",
    "# import torch.utils.data\n",
    "import torch.optim as optim\n",
    "import torch\n",
    "import cv2\n",
    "from PIL import Image\n",
    "from torch.autograd import Variable"
   ]
  },
  {
   "cell_type": "code",
   "execution_count": 1,
   "metadata": {},
   "outputs": [],
   "source": [
    "import numpy as np"
   ]
  },
  {
   "cell_type": "code",
   "execution_count": 9,
   "metadata": {},
   "outputs": [],
   "source": [
    "a = np.array([1,10])"
   ]
  },
  {
   "cell_type": "code",
   "execution_count": 11,
   "metadata": {},
   "outputs": [],
   "source": [
    "b = np.array([1,5])"
   ]
  },
  {
   "cell_type": "code",
   "execution_count": 12,
   "metadata": {},
   "outputs": [
    {
     "data": {
      "text/plain": [
       "array([ True, False])"
      ]
     },
     "execution_count": 12,
     "metadata": {},
     "output_type": "execute_result"
    }
   ],
   "source": [
    "a == b"
   ]
  },
  {
   "cell_type": "code",
   "execution_count": 14,
   "metadata": {},
   "outputs": [
    {
     "data": {
      "text/plain": [
       "array([ 0, 15], dtype=int32)"
      ]
     },
     "execution_count": 14,
     "metadata": {},
     "output_type": "execute_result"
    }
   ],
   "source": [
    "a^b"
   ]
  },
  {
   "cell_type": "code",
   "execution_count": 10,
   "metadata": {},
   "outputs": [
    {
     "name": "stdout",
     "output_type": "stream",
     "text": [
      "1\n",
      "10\n"
     ]
    }
   ],
   "source": [
    "for i in a:\n",
    "    print(i)"
   ]
  },
  {
   "cell_type": "code",
   "execution_count": 3,
   "metadata": {},
   "outputs": [
    {
     "data": {
      "text/plain": [
       "array(10)"
      ]
     },
     "execution_count": 3,
     "metadata": {},
     "output_type": "execute_result"
    }
   ],
   "source": [
    "a"
   ]
  },
  {
   "cell_type": "code",
   "execution_count": null,
   "metadata": {},
   "outputs": [],
   "source": [
    "![](picture/1.png)"
   ]
  },
  {
   "cell_type": "code",
   "execution_count": null,
   "metadata": {
    "execution": {
     "iopub.execute_input": "2022-11-23T11:23:21.927421Z",
     "iopub.status.busy": "2022-11-23T11:23:21.926528Z",
     "iopub.status.idle": "2022-11-23T11:23:21.936548Z",
     "shell.execute_reply": "2022-11-23T11:23:21.935396Z",
     "shell.execute_reply.started": "2022-11-23T11:23:21.927381Z"
    }
   },
   "outputs": [],
   "source": [
    "class LRN(nn.Module):\n",
    "    def __init__(self, local_size=1, alpha=1.0, beta=0.75, ACROSS_CHANNELS=True):\n",
    "        super(LRN, self).__init__()\n",
    "        self.ACROSS_CHANNELS = ACROSS_CHANNELS\n",
    "        if ACROSS_CHANNELS:\n",
    "            self.average=nn.AvgPool3d(kernel_size=(local_size, 1, 1),\n",
    "                    stride=1,\n",
    "                    padding=(int((local_size-1.0)/2), 0, 0))\n",
    "        else:\n",
    "            self.average=nn.AvgPool2d(kernel_size=local_size,\n",
    "                    stride=1,\n",
    "                    padding=int((local_size-1.0)/2))\n",
    "        self.alpha = alpha\n",
    "        self.beta = beta\n",
    "\n",
    "\n",
    "    def forward(self, x):\n",
    "        if self.ACROSS_CHANNELS:\n",
    "            div = x.pow(2).unsqueeze(1)\n",
    "            div = self.average(div).squeeze(1)\n",
    "            div = div.mul(self.alpha).add(1.0).pow(self.beta)\n",
    "        else:\n",
    "            div = x.pow(2)\n",
    "            div = self.average(div)\n",
    "            div = div.mul(self.alpha).add(1.0).pow(self.beta)\n",
    "        x = x.div(div)\n",
    "        return x\n"
   ]
  },
  {
   "cell_type": "code",
   "execution_count": null,
   "metadata": {
    "execution": {
     "iopub.execute_input": "2022-11-23T11:23:22.665088Z",
     "iopub.status.busy": "2022-11-23T11:23:22.664369Z",
     "iopub.status.idle": "2022-11-23T11:23:22.677167Z",
     "shell.execute_reply": "2022-11-23T11:23:22.676028Z",
     "shell.execute_reply.started": "2022-11-23T11:23:22.665049Z"
    }
   },
   "outputs": [],
   "source": [
    "class AlexNet(nn.Module):\n",
    "    def __init__(self):\n",
    "        super(AlexNet, self).__init__()\n",
    "\n",
    "        # conv\n",
    "        self.conv1 = nn.Conv2d(3, 96, kernel_size=11, stride=4, padding=0)\n",
    "        self.conv2 = nn.Conv2d(96, 256, kernel_size=5, stride=1, padding=2)\n",
    "        self.conv3 = nn.Conv2d(256, 384, kernel_size=3, stride=1, padding=1)\n",
    "        self.conv4 = nn.Conv2d(384, 384, kernel_size=3, stride=1, padding=1)\n",
    "        self.conv5 = nn.Conv2d(384, 256, kernel_size=3, stride=1, padding=1)\n",
    "\n",
    "        # LRN\n",
    "        self.LRN = LRN(local_size=5, alpha=0.0001, beta=0.75)\n",
    "\n",
    "        # FC\n",
    "        self.fc1 = nn.Linear(256*6*6, 4096)\n",
    "        self.fc2 = nn.Linear(4096, 4096)\n",
    "        self.fc3 = nn.Linear(4096, 2)\n",
    "\n",
    "        # Dropout\n",
    "        self.Dropout = nn.Dropout()\n",
    "\n",
    "\n",
    "\n",
    "    def forward(self, x):\n",
    "        # conv1 -> relu -> maxpool1\n",
    "        # conv1: [n, 3, 227, 227] --> [n, 96, 55, 55]\n",
    "        # maxpool1: [n, 96, 55, 55] --> [n, 96, 27, 27]\n",
    "        x = F.relu(self.conv1(x))\n",
    "        x = self.LRN(x)\n",
    "        x = F.max_pool2d(x, (3, 3), 2)\n",
    "\n",
    "        # conv2 -> relu -> maxpool2\n",
    "        # conv2: [n, 96, 27, 27] --> [n, 256, 27, 27]\n",
    "        # maxpool2: [n, 256, 27, 27] --> [n, 256, 13, 13]\n",
    "        x = F.relu(self.conv2(x))\n",
    "        x = self.LRN(x)\n",
    "        x = F.max_pool2d(x, (3, 3), 2)\n",
    "\n",
    "        # conv3 -> relu -> conv4 -> relu\n",
    "        # oonv3: [n, 256, 13, 13] --> [n, 384, 13, 13]\n",
    "        # conv4: [n, 384, 13, 13] --> [n, 384, 13, 13]\n",
    "        x = F.relu(self.conv3(x))\n",
    "        x = F.relu(self.conv4(x))\n",
    "\n",
    "        # conv5 -> relu -> maxpool3\n",
    "        # conv5: [n. 384, 13, 13] --> [n, 256, 13, 13]\n",
    "        # maxpool3: [n, 256, 13, 13] --> [n, 256, 6, 6]\n",
    "        x = F.relu(self.conv5(x))\n",
    "        x = F.max_pool2d(x, (3, 3), 2)\n",
    "\n",
    "        # need view first for conv --> FC\n",
    "        x = x.view(x.size()[0], -1)\n",
    "\n",
    "        # fc1 -> fc2 -> fc3 -> softmax\n",
    "        # fc1: 256*6*6 --> 4096\n",
    "        # fc2: 4096 --> 4096\n",
    "        # fc3: 1000 --> 2\n",
    "        x = F.relu(self.fc1(x))\n",
    "        x = self.Dropout(x)\n",
    "        x = F.relu(self.fc2(x))\n",
    "        x = self.Dropout(x)\n",
    "        x = self.fc3(x)\n",
    "        x = F.softmax(x)\n",
    "        return x"
   ]
  },
  {
   "cell_type": "code",
   "execution_count": null,
   "metadata": {
    "execution": {
     "iopub.execute_input": "2022-11-23T11:23:25.800312Z",
     "iopub.status.busy": "2022-11-23T11:23:25.799935Z",
     "iopub.status.idle": "2022-11-23T11:23:25.805859Z",
     "shell.execute_reply": "2022-11-23T11:23:25.804802Z",
     "shell.execute_reply.started": "2022-11-23T11:23:25.800279Z"
    }
   },
   "outputs": [],
   "source": [
    "#数据预处理\n",
    "pre_transforms = transforms.Compose([#一组操作组合起来\n",
    "    transforms.Resize((227,227)),\n",
    "    transforms.ToTensor(),#转换类型\n",
    "    transforms.Normalize([0.485,0.456,0.406],[0.229,0.224,0.225])\n",
    "])"
   ]
  },
  {
   "cell_type": "code",
   "execution_count": null,
   "metadata": {
    "execution": {
     "iopub.execute_input": "2022-11-23T11:23:26.167576Z",
     "iopub.status.busy": "2022-11-23T11:23:26.166461Z",
     "iopub.status.idle": "2022-11-23T11:23:26.177803Z",
     "shell.execute_reply": "2022-11-23T11:23:26.176814Z",
     "shell.execute_reply.started": "2022-11-23T11:23:26.167526Z"
    }
   },
   "outputs": [],
   "source": [
    "class CatDogDataset(Dataset):\n",
    "    def __init__(self,args,mode = 'train',transform = None):\n",
    "        self.args = args\n",
    "        self.transform = transform\n",
    "        self.mode = mode\n",
    "        self.names = self.__dataset_info()\n",
    "    def __getitem__(self,index):#读取一个数据\n",
    "        x = cv2.imread(self.args+'/'+self.names[index],1)\n",
    "        #x 为numpy ndarry\n",
    "        x = Image.fromarray(x)#PIL\n",
    "        # array -> image\n",
    "        x_label = 0 if 'cat' in self.names[index] else 1 #贴标签\n",
    "        if self.transform is not None:\n",
    "            x = self.transform(x)\n",
    "        return x,x_label\n",
    "    \n",
    "    def __len__(self):\n",
    "        return len(self.names)\n",
    "    def __dataset_info(self):#读取数据\n",
    "        img_path = self.args\n",
    "        imgs = [f for f in os.listdir(img_path) if\n",
    "                os.path.isfile(os.path.join(img_path,f)) and f.endswith('.jpg')]\n",
    "    #listdir 返回当前文件夹下的文件名\n",
    "    #os.path.join 将目录和文件名合并成一个路径\n",
    "    #os.path.isfile 判断是否为文件\n",
    "    #f为字符串\n",
    "        names = []\n",
    "        for name in imgs:\n",
    "            index = int(name.split('.')[1])\n",
    "            #train dataset\n",
    "            if self.mode == 'train':\n",
    "                if index >= 500:\n",
    "                    names.append(name)\n",
    "            #test dataset:1000 cat1 dog1\n",
    "            elif self.mode == 'test':\n",
    "                if index < 500:\n",
    "                    names.append(name)\n",
    "        return names"
   ]
  },
  {
   "cell_type": "code",
   "execution_count": null,
   "metadata": {
    "execution": {
     "iopub.execute_input": "2022-11-23T11:23:38.659297Z",
     "iopub.status.busy": "2022-11-23T11:23:38.658657Z",
     "iopub.status.idle": "2022-11-23T11:23:51.338464Z",
     "shell.execute_reply": "2022-11-23T11:23:51.337476Z",
     "shell.execute_reply.started": "2022-11-23T11:23:38.659257Z"
    }
   },
   "outputs": [],
   "source": [
    "# 实例化 从训练数据中，划分训练集和验证集\n",
    "train_dataset = CatDogDataset('/kaggle/input/cat-dog/train/train/','train',pre_transforms)\n",
    "test_dataset = CatDogDataset('/kaggle/input/cat-dog/train/train/','test',pre_transforms)\n",
    "\n",
    "#print the length of train_dataset\n",
    "print('train:{} img'.format(len(train_dataset)))\n",
    "print('test:{} img'.format(len(test_dataset)))"
   ]
  },
  {
   "cell_type": "code",
   "execution_count": null,
   "metadata": {
    "execution": {
     "iopub.execute_input": "2022-11-23T11:23:51.340441Z",
     "iopub.status.busy": "2022-11-23T11:23:51.340150Z",
     "iopub.status.idle": "2022-11-23T11:23:51.345452Z",
     "shell.execute_reply": "2022-11-23T11:23:51.344472Z",
     "shell.execute_reply.started": "2022-11-23T11:23:51.340414Z"
    }
   },
   "outputs": [],
   "source": [
    "batch_size = 100\n",
    "train_loader = DataLoader(train_dataset,batch_size,shuffle = True)\n",
    "test_loader = DataLoader(test_dataset,1,shuffle = False)"
   ]
  },
  {
   "cell_type": "code",
   "execution_count": null,
   "metadata": {},
   "outputs": [],
   "source": []
  },
  {
   "cell_type": "code",
   "execution_count": null,
   "metadata": {
    "execution": {
     "iopub.execute_input": "2022-11-23T11:23:55.642804Z",
     "iopub.status.busy": "2022-11-23T11:23:55.642351Z",
     "iopub.status.idle": "2022-11-23T11:23:56.410293Z",
     "shell.execute_reply": "2022-11-23T11:23:56.409231Z",
     "shell.execute_reply.started": "2022-11-23T11:23:55.642754Z"
    }
   },
   "outputs": [],
   "source": [
    "alexnet = AlexNet()"
   ]
  },
  {
   "cell_type": "code",
   "execution_count": null,
   "metadata": {
    "execution": {
     "iopub.execute_input": "2022-11-23T11:23:56.412500Z",
     "iopub.status.busy": "2022-11-23T11:23:56.412120Z",
     "iopub.status.idle": "2022-11-23T11:23:56.418265Z",
     "shell.execute_reply": "2022-11-23T11:23:56.417317Z",
     "shell.execute_reply.started": "2022-11-23T11:23:56.412471Z"
    }
   },
   "outputs": [],
   "source": [
    "#损失函数与优化方法\n",
    "criterion = nn.CrossEntropyLoss()\n",
    "optimizer = optim.SGD(alexnet.parameters(),#momentum 动量\n",
    "                lr = 0.01,momentum = 0.9,weight_decay = 5e-4)"
   ]
  },
  {
   "cell_type": "code",
   "execution_count": null,
   "metadata": {
    "execution": {
     "iopub.execute_input": "2022-11-23T11:26:13.992739Z",
     "iopub.status.busy": "2022-11-23T11:26:13.992435Z",
     "iopub.status.idle": "2022-11-23T11:26:13.998966Z",
     "shell.execute_reply": "2022-11-23T11:26:13.997867Z",
     "shell.execute_reply.started": "2022-11-23T11:26:13.992713Z"
    }
   },
   "outputs": [],
   "source": [
    "#选择加载到哪个设备上\n",
    "#选择运行在哪个设备上\n",
    "# if :\n",
    "#     device = torch.device('cuda:0' if torch.cuda.is_available() else 'cpu')\n",
    "#     print('using CPU!')\n",
    "# else:\n",
    "if torch.cuda.is_available():\n",
    "    device = torch.device('cuda')\n",
    "    print('using GPU')\n",
    "else:\n",
    "    device = torch.device('cpu')\n",
    "    print('using CPU')\n"
   ]
  },
  {
   "cell_type": "code",
   "execution_count": null,
   "metadata": {},
   "outputs": [],
   "source": []
  },
  {
   "cell_type": "code",
   "execution_count": null,
   "metadata": {
    "execution": {
     "iopub.execute_input": "2022-11-23T11:27:54.218680Z",
     "iopub.status.busy": "2022-11-23T11:27:54.218162Z",
     "iopub.status.idle": "2022-11-23T11:56:53.566434Z",
     "shell.execute_reply": "2022-11-23T11:56:53.565409Z",
     "shell.execute_reply.started": "2022-11-23T11:27:54.218637Z"
    },
    "scrolled": true
   },
   "outputs": [],
   "source": [
    "epochs = 10\n",
    "# base_epoch = 0\n",
    "alexnet = alexnet.to(device)\n",
    "for epoch in range(epochs):\n",
    "    alexnet.train()\n",
    "    # epoch += base_epoch\n",
    "    epoch_loss = 0\n",
    "    for idx,(imgs,labels) in enumerate(train_loader):\n",
    "        imgs,labels = imgs.to(device),labels.to(device)\n",
    "        pre_labels = alexnet(imgs)#预测标签\n",
    "        optimizer.zero_grad()\n",
    "        loss = criterion(pre_labels,labels.long())#计算损失\n",
    "        loss.backward()\n",
    "        optimizer.step()#更新参数\n",
    "\n",
    "        epoch_loss += loss.item()\n",
    "\n",
    "        print('[{}/{}][{}/{}] loss:{:.4f}'\n",
    "                  .format(epoch+1, epochs, idx+1, int(len(train_dataset) / batch_size), loss.item()))"
   ]
  },
  {
   "cell_type": "code",
   "execution_count": null,
   "metadata": {
    "execution": {
     "iopub.execute_input": "2022-11-23T12:17:29.727307Z",
     "iopub.status.busy": "2022-11-23T12:17:29.726937Z",
     "iopub.status.idle": "2022-11-23T12:17:29.737152Z",
     "shell.execute_reply": "2022-11-23T12:17:29.736139Z",
     "shell.execute_reply.started": "2022-11-23T12:17:29.727275Z"
    }
   },
   "outputs": [],
   "source": [
    "def get_accuracy(model,data_loader):\n",
    "    correct_pred = 0\n",
    "    n = 0\n",
    "    with torch.no_grad():#反向传播不求偏导数\n",
    "        model.eval()\n",
    "        for X,y_true in data_loader:\n",
    "            X = X.to(device)\n",
    "            y_pred = model(X)\n",
    "            predicted_labels = torch.max(y_pred,1)[1].item()#data dim\n",
    "#             print(predicted_labels)\n",
    "            \n",
    "            n+=y_true.size(0)\n",
    "            y_true = y_true.item()\n",
    "            correct_pred += (predicted_labels == y_true)\n",
    "#             print('{},{}'.format(n,correct_pred))\n",
    "#             print(type(predicted_labels))\n",
    "#             print(type(y_true))\n",
    "#             break\n",
    "    return float(correct_pred)/n"
   ]
  },
  {
   "cell_type": "code",
   "execution_count": null,
   "metadata": {},
   "outputs": [],
   "source": []
  },
  {
   "cell_type": "code",
   "execution_count": null,
   "metadata": {
    "execution": {
     "iopub.execute_input": "2022-11-23T12:17:41.525281Z",
     "iopub.status.busy": "2022-11-23T12:17:41.524883Z",
     "iopub.status.idle": "2022-11-23T12:17:49.588614Z",
     "shell.execute_reply": "2022-11-23T12:17:49.587577Z",
     "shell.execute_reply.started": "2022-11-23T12:17:41.525237Z"
    }
   },
   "outputs": [],
   "source": [
    "# test_loader2 = test_loader.to('cuda')\n",
    "acc = get_accuracy(alexnet,test_loader)\n",
    "print('模型准确度{:.2f}'.format(acc))\n",
    "# inputs = inputs.to(device)"
   ]
  },
  {
   "cell_type": "code",
   "execution_count": null,
   "metadata": {
    "scrolled": true
   },
   "outputs": [],
   "source": []
  },
  {
   "cell_type": "code",
   "execution_count": null,
   "metadata": {},
   "outputs": [],
   "source": [
    "torch.save({'model': alexnet.state_dict()}, 'model_name.pth')"
   ]
  },
  {
   "cell_type": "code",
   "execution_count": null,
   "metadata": {},
   "outputs": [],
   "source": [
    "torch.save(alexnet.state_dict(),'model.pt')"
   ]
  },
  {
   "cell_type": "code",
   "execution_count": null,
   "metadata": {},
   "outputs": [],
   "source": []
  },
  {
   "cell_type": "code",
   "execution_count": null,
   "metadata": {},
   "outputs": [],
   "source": []
  },
  {
   "cell_type": "code",
   "execution_count": null,
   "metadata": {},
   "outputs": [],
   "source": []
  },
  {
   "cell_type": "code",
   "execution_count": null,
   "metadata": {},
   "outputs": [],
   "source": []
  }
 ],
 "metadata": {
  "kernelspec": {
   "display_name": "Python 3",
   "language": "python",
   "name": "python3"
  },
  "language_info": {
   "codemirror_mode": {
    "name": "ipython",
    "version": 3
   },
   "file_extension": ".py",
   "mimetype": "text/x-python",
   "name": "python",
   "nbconvert_exporter": "python",
   "pygments_lexer": "ipython3",
   "version": "3.7.3"
  }
 },
 "nbformat": 4,
 "nbformat_minor": 4
}
