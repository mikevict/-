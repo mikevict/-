{
 "cells": [
  {
   "cell_type": "code",
   "execution_count": 6,
   "metadata": {},
   "outputs": [],
   "source": [
    "import xlrd\n",
    "import xlwt\n",
    "import pandas as pd"
   ]
  },
  {
   "cell_type": "code",
   "execution_count": 18,
   "metadata": {},
   "outputs": [],
   "source": [
    "def DataArrage():\n",
    "    # 一、数据预处理\n",
    "    # 1、Excel表格读的部分：\n",
    "    excel = xlrd.open_workbook('01.蔬菜价格.xls')  # 读入本地名为‘o1.蔬菜价格.xls’的Excel表格\n",
    "    excelsheet = excel.sheets()[0]                # 获取excel表格中的第一个sheet工作表\n",
    "    # 2、Excel表格写的部分：\n",
    "    newexcel = xlwt.Workbook(encoding='utf-8')   # 创建一个Excel对象,编码格式采用utf-8\n",
    "    # 创建一个表名为“蔬菜价格关联分析”的工作表，cell_overwrite_ok=True表示可覆盖之前已操作的单元格\n",
    "    newsheet = newexcel.add_sheet('蔬菜价格关联分析', cell_overwrite_ok=True)\n",
    "    # 3、设置表格样式，这里主要用于设置日期的格式\n",
    "    datastyle = xlwt.XFStyle()                          # 创建一个样式对象，初始化样式\n",
    "    datastyle.num_format_str = 'M/D/YY'                 # 设置日期格式\n",
    "    # 4、表格中有的空的位置不是真的为空，这里获取一个这样的值，待会用于特判\n",
    "    tmp = excelsheet.cell_value(5, 2)\n",
    "    # 二、正式开始处理数据，主要思路：从旧表中读出写入新表\n",
    "    ri = 2  # 用于读原始第ri行\n",
    "    rj = 0  # 用于读原始第rj列\n",
    "    wi = 0  # 用于写入表格的第wi行\n",
    "    wj = 1  # 用于写入表格的第wj列\n",
    "    # 创建新表的第一行，包括日期和各个菜的菜名\n",
    "    newsheet.write(0, 0, excelsheet.cell_value(0, 0))  # 将旧表的（0，0）位置的日期写到新表的（0，0）位置\n",
    "    # 1、先读取蔬菜列和禽肉类的列名，暂时先不处理禽肉类的一个K位置为空值的特殊情况\n",
    "    while ri < 42:\n",
    "        rj = 1  # 蔬菜在第1列,有40种,肉类在第3列，有23种\n",
    "        newsheet.write(0, wj, excelsheet.cell_value(ri, rj))\n",
    "        newsheet.write(0, wj + 40, excelsheet.cell_value(ri, rj + 2))\n",
    "        ri = ri + 1\n",
    "        wj = wj + 1\n",
    "    # 2、先整理蔬菜的价格\n",
    "    ri = 42  # 遍历原始第ri行\n",
    "    rj = 2  # 遍历原始第rj列\n",
    "    wi = 0  # 写入表格的第wi行\n",
    "    wj = 1  # 写入表格的第wj行\n",
    "    while ri < 22320:\n",
    "        if ri % 47 >= 42:\n",
    "            ri = ri + 6\n",
    "            wi = wi + 1\n",
    "            newsheet.write(wi, 0, excelsheet.cell_value(ri, 0), datastyle)\n",
    "        else:\n",
    "            if excelsheet.cell_value(ri, rj) != tmp:\n",
    "                newsheet.write(wi, wj, excelsheet.cell_value(ri, rj))\n",
    "            wj = wj % 40 + 1\n",
    "        ri = ri + 1\n",
    "    # 3、再整理禽肉类的价格\n",
    "    ri = 26  # 遍历原始第ri行\n",
    "    rj = 4  # 遍历原始第4列\n",
    "    wi = 0  # 写入表格的第wi行\n",
    "    wj = 41  # 写入表格的第wj行，从第41列开始\n",
    "    while ri < 22320:\n",
    "        if ri % 47 >= 26:\n",
    "            ri = ri + 22\n",
    "            wi = wi + 1\n",
    "            wj = 41\n",
    "        else:\n",
    "            if excelsheet.cell_value(ri, rj) != tmp:\n",
    "                newsheet.write(wi, wj, excelsheet.cell_value(ri, rj))\n",
    "            wj = wj % (41 + 24) + 1\n",
    "        ri = ri + 1\n",
    "    newexcel.save('Transition.xls')  # 生成处理后的表格\n",
    "###################################################################################\n",
    "    # header = None用于不让蔬菜名那一行作为“表头”，便于之后步骤的数据获取\n",
    "    data = pd.read_excel('Transition.xls', header=None)\n",
    "    # 删除第60列空值列，axis=1表示纵向，inplace=True表示删除操作对原数据生效\n",
    "    data.drop(labels=[60], axis=1, inplace=True)\n",
    "    ri = 1\n",
    "    while ri < data.shape[0] - 1:\n",
    "        rj = 1\n",
    "        while rj < data.shape[1]:\n",
    "            if (len(str(data.values[ri, rj])) == 0 or len(str(data.values[ri + 1, rj])) == 0):\n",
    "                data.iloc[ri, rj] = 0\n",
    "            else:\n",
    "                d = float(data.values[ri, rj]) - float(data.values[ri + 1, rj]) \n",
    "         # 上-下 今天-昨天  正为涨，负为跌\n",
    "                if d > 0:\n",
    "                    data.iloc[ri, rj] = 'up'\n",
    "                elif d < 0:\n",
    "                    data.iloc[ri, rj] = 'down'\n",
    "                else:\n",
    "                    data.iloc[ri, rj] = 0\n",
    "            rj = rj + 1\n",
    "        ri = ri + 1\n",
    "    data.drop(labels=[data.shape[0] - 1], axis=0, inplace=True)  # 删除最后一行\n",
    "    data.to_excel(\"Finished_version.xlsx\")\n"
   ]
  },
  {
   "cell_type": "code",
   "execution_count": 19,
   "metadata": {},
   "outputs": [],
   "source": [
    "DataArrage()"
   ]
  },
  {
   "cell_type": "code",
   "execution_count": 20,
   "metadata": {},
   "outputs": [
    {
     "name": "stdout",
     "output_type": "stream",
     "text": [
      "{1: {('大白菜1',): 208, ('葱1',): 155, ('菠菜1',): 204, ('韭菜1',): 164, ('芸豆1',): 204, ('茄子1',): 184, ('青椒1',): 166, ('茭瓜1',): 162, ('菜花1',): 203, ('鲜蘑菇1',): 176, ('茼蒿1',): 162, ('油菜1',): 175, ('黄瓜1',): 191, ('芹菜1',): 141, ('大头菜1',): 179, ('西红柿1',): 177, ('尖椒1',): 174, ('香菜1',): 118}, 2: {('大头菜1', '大白菜1'): 109, ('大白菜1', '芸豆1'): 122, ('大白菜1', '茄子1'): 111, ('大白菜1', '菜花1'): 115, ('油菜1', '芸豆1'): 111, ('芸豆1', '茄子1'): 111, ('芸豆1', '菜花1'): 120, ('芸豆1', '菠菜1'): 110}}\n",
      "[{大白菜1} -> {大头菜1}, {大头菜1} -> {大白菜1}, {芸豆1} -> {大白菜1}, {大白菜1} -> {芸豆1}, {茄子1} -> {大白菜1}, {大白菜1} -> {茄子1}, {菜花1} -> {大白菜1}, {大白菜1} -> {菜花1}, {芸豆1} -> {油菜1}, {油菜1} -> {芸豆1}, {茄子1} -> {芸豆1}, {芸豆1} -> {茄子1}, {菜花1} -> {芸豆1}, {芸豆1} -> {菜花1}, {菠菜1} -> {芸豆1}, {芸豆1} -> {菠菜1}]\n"
     ]
    }
   ],
   "source": [
    "import pandas as pd\n",
    "from openpyxl import load_workbook\n",
    "from efficient_apriori import apriori\n",
    "\n",
    "data=pd.read_excel('Finished_version.xlsx',header=None)\n",
    "# print(data)\n",
    "data_list = []\n",
    "a =int(data.shape[1])-1\n",
    "b =int(data.shape[0])-1\n",
    "for j in range(2,b+1):#列数64 \n",
    "    data_up_list = []\n",
    "    for i in range(2,a+1):#行数474\n",
    "        if(data[i][j]=='up'):\n",
    "            # print(data[i][1],'涨')\n",
    "            data_up_list.append(data[i][1]+'1')\n",
    "        elif(data[i][j]=='down'):\n",
    "            # print(data[i][1],'跌')\n",
    "            data_up_list.append(data[i][1]+'1')\n",
    "    # print(data_up_list)\n",
    "    data_list.append(data_up_list)\n",
    "# print(data_list)   \n",
    "\n",
    "\n",
    "# 设置数据集\n",
    "# 挖掘频繁项集和频繁规则\n",
    "itemsets, rules = apriori(data_list, min_support=0.23,  min_confidence=0.5)\n",
    "print(itemsets)\n",
    "print(rules)"
   ]
  },
  {
   "cell_type": "code",
   "execution_count": 21,
   "metadata": {},
   "outputs": [],
   "source": [
    "excel = xlrd.open_workbook('veg.xlsx')  # 读入本地名为‘o1.蔬菜价格.xls’的Excel表格\n",
    "excelsheet = excel.sheets()[0]  "
   ]
  },
  {
   "cell_type": "code",
   "execution_count": 14,
   "metadata": {},
   "outputs": [],
   "source": [
    "dataSet = []\n",
    "rowSet = []\n",
    "ri = 2\n",
    "rj = 0\n",
    "while ri <= 474:\n",
    "    while rj <= 39:\n",
    "        tmp = excelsheet.cell_value(ri,rj)\n",
    "        if  tmp != 0:\n",
    "            rowSet.append(excelsheet.cell_value(1,rj))\n",
    "        rj = rj+1\n",
    "    dataSet.append(rowSet)\n",
    "    rowSet = []\n",
    "    ri = ri + 1\n",
    "    rj = 0"
   ]
  },
  {
   "cell_type": "code",
   "execution_count": 53,
   "metadata": {},
   "outputs": [
    {
     "name": "stdout",
     "output_type": "stream",
     "text": [
      "{1: {('大白菜',): 208, ('葱',): 155, ('菠菜',): 204, ('韭菜',): 164, ('芸豆',): 204, ('茄子',): 184, ('青椒',): 166, ('茭瓜',): 162, ('菜花',): 203, ('鲜蘑菇',): 176, ('茼蒿',): 162, ('油菜',): 175, ('黄瓜',): 191, ('芹菜',): 141, ('大头菜',): 179, ('西红柿',): 177, ('尖椒',): 174}, 2: {('大白菜', '芸豆'): 122, ('芸豆', '菜花'): 120}}\n",
      "[{芸豆} -> {大白菜}, {大白菜} -> {芸豆}, {菜花} -> {芸豆}, {芸豆} -> {菜花}]\n"
     ]
    }
   ],
   "source": [
    "itemsets, rules = apriori(dataSet, min_support=0.25,  min_confidence=0.5)\n",
    "print(itemsets)\n",
    "print(rules)"
   ]
  },
  {
   "cell_type": "code",
   "execution_count": 15,
   "metadata": {},
   "outputs": [],
   "source": [
    "excel = xlrd.open_workbook('meat.xlsx')  # 读入本地名为‘o1.蔬菜价格.xls’的Excel表格\n",
    "excelsheet = excel.sheets()[0]  "
   ]
  },
  {
   "cell_type": "code",
   "execution_count": 16,
   "metadata": {},
   "outputs": [],
   "source": [
    "dataSet = []\n",
    "rowSet = []\n",
    "ri = 2\n",
    "rj = 0\n",
    "while ri <= 473:\n",
    "    fg = False\n",
    "    while rj <= 22:\n",
    "        tmp = excelsheet.cell_value(ri,rj)\n",
    "        if  tmp != 0:\n",
    "            fg = True\n",
    "            rowSet.append(excelsheet.cell_value(0,rj))\n",
    "        rj = rj+1\n",
    "    if fg: \n",
    "        dataSet.append(rowSet)\n",
    "    rowSet = []\n",
    "    ri = ri + 1\n",
    "    rj = 0"
   ]
  },
  {
   "cell_type": "code",
   "execution_count": 17,
   "metadata": {},
   "outputs": [
    {
     "name": "stdout",
     "output_type": "stream",
     "text": [
      "{1: {('鸡蛋',): 60, ('鸡翅',): 11, ('鸡胸肉',): 12, ('猪肝',): 9, ('猪蹄',): 10, ('精猪肉',): 10, ('白条肉',): 14, ('西装鸡',): 11, ('鸡大腿',): 11, ('翅根',): 15, ('翅中',): 15, ('精猪肚',): 9}, 2: {('白条肉', '精猪肉'): 9, ('白条肉', '翅中'): 9, ('精猪肉', '翅中'): 9, ('精猪肉', '鸡大腿'): 9, ('翅中', '翅根'): 11, ('翅根', '西装鸡'): 9, ('西装鸡', '鸡大腿'): 9}}\n",
      "[{精猪肉} -> {白条肉}, {白条肉} -> {精猪肉}, {翅中} -> {白条肉}, {白条肉} -> {翅中}, {翅中} -> {精猪肉}, {精猪肉} -> {翅中}, {鸡大腿} -> {精猪肉}, {精猪肉} -> {鸡大腿}, {翅根} -> {翅中}, {翅中} -> {翅根}, {西装鸡} -> {翅根}, {翅根} -> {西装鸡}, {鸡大腿} -> {西装鸡}, {西装鸡} -> {鸡大腿}]\n"
     ]
    }
   ],
   "source": [
    "itemsets, rules = apriori(dataSet, min_support=0.1,  min_confidence=0.5)\n",
    "print(itemsets)\n",
    "print(rules)"
   ]
  }
 ],
 "metadata": {
  "kernelspec": {
   "display_name": "Python 3",
   "language": "python",
   "name": "python3"
  },
  "language_info": {
   "codemirror_mode": {
    "name": "ipython",
    "version": 3
   },
   "file_extension": ".py",
   "mimetype": "text/x-python",
   "name": "python",
   "nbconvert_exporter": "python",
   "pygments_lexer": "ipython3",
   "version": "3.7.3"
  }
 },
 "nbformat": 4,
 "nbformat_minor": 2
}
