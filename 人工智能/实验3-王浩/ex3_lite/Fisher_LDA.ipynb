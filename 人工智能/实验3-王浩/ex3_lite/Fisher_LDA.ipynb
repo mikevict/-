{
 "cells": [
  {
   "cell_type": "code",
   "execution_count": 1,
   "metadata": {},
   "outputs": [],
   "source": [
    "import numpy as np\n",
    "import pandas as pd\n",
    "import matplotlib.pyplot as plt"
   ]
  },
  {
   "cell_type": "code",
   "execution_count": 6,
   "metadata": {},
   "outputs": [],
   "source": [
    "# 问题，将输入合并成一个数据，应该是很多条数据"
   ]
  },
  {
   "cell_type": "code",
   "execution_count": 2,
   "metadata": {},
   "outputs": [],
   "source": [
    "# print\n",
    "pd.set_option('display.max_columns', None) # 显示完整的列\n",
    "pd.set_option('display.max_rows', None) # 显示完整的行\n",
    "pd.set_option('display.expand_frame_repr', False) # 设置不折叠数据\n",
    "pd.set_option('display.max_colwidth', 100)\n",
    "pd.set_option('display.unicode.east_asian_width',True)#设置列名对齐"
   ]
  },
  {
   "cell_type": "code",
   "execution_count": 8,
   "metadata": {},
   "outputs": [],
   "source": [
    "# 公式中的乘是矩阵相乘"
   ]
  },
  {
   "cell_type": "code",
   "execution_count": 9,
   "metadata": {},
   "outputs": [],
   "source": [
    "# 预处理"
   ]
  },
  {
   "cell_type": "code",
   "execution_count": 10,
   "metadata": {},
   "outputs": [],
   "source": [
    "#转化为两行 其中每行的数据为 在一个类内同一个特征不同样本的值 \n",
    "#两行数据代表一个类内两个特征不同样本的值"
   ]
  },
  {
   "cell_type": "code",
   "execution_count": 11,
   "metadata": {},
   "outputs": [],
   "source": [
    "# w1 = np.mat([[2.95,6.63],[2.53,7.79],[3.57,5.65],[3.16,5.47]])\n",
    "# w2 = np.mat([[2.58,4.46],[2.16,6.22],[3.27,3.52]])\n",
    "w1 = np.mat([[1,0,1],[0,1,1]])\n",
    "w2 = np.mat([[1,1,0],[0,1,0]])"
   ]
  },
  {
   "cell_type": "code",
   "execution_count": 12,
   "metadata": {},
   "outputs": [
    {
     "data": {
      "text/plain": [
       "matrix([[1, 1, 0],\n",
       "        [0, 1, 0]])"
      ]
     },
     "execution_count": 12,
     "metadata": {},
     "output_type": "execute_result"
    }
   ],
   "source": [
    "w2"
   ]
  },
  {
   "cell_type": "code",
   "execution_count": 13,
   "metadata": {},
   "outputs": [],
   "source": [
    "w1 = w1.T"
   ]
  },
  {
   "cell_type": "code",
   "execution_count": 14,
   "metadata": {},
   "outputs": [
    {
     "data": {
      "text/plain": [
       "matrix([[1, 0],\n",
       "        [0, 1],\n",
       "        [1, 1]])"
      ]
     },
     "execution_count": 14,
     "metadata": {},
     "output_type": "execute_result"
    }
   ],
   "source": [
    "w1"
   ]
  },
  {
   "cell_type": "code",
   "execution_count": 15,
   "metadata": {},
   "outputs": [],
   "source": [
    "w2 = w2.T"
   ]
  },
  {
   "cell_type": "code",
   "execution_count": 17,
   "metadata": {},
   "outputs": [
    {
     "data": {
      "text/plain": [
       "matrix([[1, 0],\n",
       "        [1, 1],\n",
       "        [0, 0]])"
      ]
     },
     "execution_count": 17,
     "metadata": {},
     "output_type": "execute_result"
    }
   ],
   "source": [
    "w2"
   ]
  },
  {
   "cell_type": "code",
   "execution_count": 18,
   "metadata": {},
   "outputs": [],
   "source": [
    "sz1 = np.size(w1,1)"
   ]
  },
  {
   "cell_type": "code",
   "execution_count": 19,
   "metadata": {},
   "outputs": [],
   "source": [
    "sz2 = np.size(w2,1)"
   ]
  },
  {
   "cell_type": "code",
   "execution_count": null,
   "metadata": {},
   "outputs": [],
   "source": [
    "一开始先看X空间内的离散度"
   ]
  },
  {
   "cell_type": "markdown",
   "metadata": {},
   "source": [
    "![jupyter](picture/1.png)"
   ]
  },
  {
   "cell_type": "code",
   "execution_count": 20,
   "metadata": {},
   "outputs": [],
   "source": [
    "m1 = np.mean(w1,axis = 1)\n",
    "m2 = np.mean(w2,axis = 1)"
   ]
  },
  {
   "cell_type": "code",
   "execution_count": null,
   "metadata": {},
   "outputs": [],
   "source": [
    "类均值向量"
   ]
  },
  {
   "cell_type": "code",
   "execution_count": 35,
   "metadata": {},
   "outputs": [
    {
     "data": {
      "text/plain": [
       "matrix([[0.5],\n",
       "        [0.5],\n",
       "        [1. ]])"
      ]
     },
     "execution_count": 35,
     "metadata": {},
     "output_type": "execute_result"
    }
   ],
   "source": [
    "m1"
   ]
  },
  {
   "cell_type": "code",
   "execution_count": 22,
   "metadata": {},
   "outputs": [
    {
     "data": {
      "text/plain": [
       "matrix([[0.5],\n",
       "        [1. ],\n",
       "        [0. ]])"
      ]
     },
     "execution_count": 22,
     "metadata": {},
     "output_type": "execute_result"
    }
   ],
   "source": [
    "m2"
   ]
  },
  {
   "cell_type": "markdown",
   "metadata": {},
   "source": [
    "![](picture/2.png)"
   ]
  },
  {
   "cell_type": "markdown",
   "metadata": {},
   "source": [
    "![](picture/4.png)"
   ]
  },
  {
   "cell_type": "code",
   "execution_count": 22,
   "metadata": {},
   "outputs": [
    {
     "ename": "IndentationError",
     "evalue": "unexpected indent (<ipython-input-22-c8f2ea89aaa3>, line 3)",
     "output_type": "error",
     "traceback": [
      "\u001b[1;36m  File \u001b[1;32m\"<ipython-input-22-c8f2ea89aaa3>\"\u001b[1;36m, line \u001b[1;32m3\u001b[0m\n\u001b[1;33m    S_w = np.cov(x_0.T) + np.cov(x_1.T) # np.cov()求特征的协方差，默认一列表示一个样本，但我们传入的是一行表示一个样本，所以要先进行转置\u001b[0m\n\u001b[1;37m    ^\u001b[0m\n\u001b[1;31mIndentationError\u001b[0m\u001b[1;31m:\u001b[0m unexpected indent\n"
     ]
    }
   ],
   "source": [
    " # 总样本类内散度矩阵\n",
    "    # /....不是一个\n",
    "    # 其实就是协方差矩阵之和\n",
    "    S_w = np.cov(x_0.T) + np.cov(x_1.T) # np.cov()求特征的协方差，默认一列表示一个样本，但我们传入的是一行表示一个样本，所以要先进行转置\n",
    "    # 样本类间离散度矩阵\n",
    "    S_b = np.matmul((mean_0 - mean_1).reshape(-1,1), (mean_0 - mean_1).reshape(1,-1))\n"
   ]
  },
  {
   "cell_type": "code",
   "execution_count": 23,
   "metadata": {},
   "outputs": [],
   "source": [
    "s1 = np.zeros((w1.shape[0],w1.shape[0]))\n",
    "s2 = np.zeros((w2.shape[0],w2.shape[0]))"
   ]
  },
  {
   "cell_type": "code",
   "execution_count": 37,
   "metadata": {
    "scrolled": true
   },
   "outputs": [
    {
     "data": {
      "text/plain": [
       "matrix([[ 0.562875, -1.23795 ],\n",
       "        [-1.23795 ,  3.4115  ]])"
      ]
     },
     "execution_count": 37,
     "metadata": {},
     "output_type": "execute_result"
    }
   ],
   "source": [
    "s1"
   ]
  },
  {
   "cell_type": "code",
   "execution_count": 41,
   "metadata": {},
   "outputs": [],
   "source": [
    "tmp = w1[:,i] - m1"
   ]
  },
  {
   "cell_type": "code",
   "execution_count": 26,
   "metadata": {},
   "outputs": [
    {
     "data": {
      "text/plain": [
       "matrix([[ 0.6       ],\n",
       "        [-1.21333333]])"
      ]
     },
     "execution_count": 26,
     "metadata": {},
     "output_type": "execute_result"
    }
   ],
   "source": [
    "tmp"
   ]
  },
  {
   "cell_type": "code",
   "execution_count": 24,
   "metadata": {},
   "outputs": [],
   "source": [
    "# 第一类的Si\n",
    "# tmp 是 每一个\n",
    "# 一个元素有两个参数，看这两个参数和平均值的差值，相乘然后累加\n",
    "for i in range(w1.shape[1]):\n",
    "    tmp = w1[:,i] - m1\n",
    "    s1 = s1 + tmp*tmp.T\n",
    "#     print(s1)\n",
    "# 第二类的Si\n",
    "for i in range(w2.shape[1]):\n",
    "    tmp = w2[:,i] - m2\n",
    "    s2 = s2 + tmp*tmp.T\n",
    "sw = (sz1*s1+sz2*s2)/(sz1+sz2)"
   ]
  },
  {
   "cell_type": "code",
   "execution_count": null,
   "metadata": {},
   "outputs": [],
   "source": [
    "#类内离散度矩阵"
   ]
  },
  {
   "cell_type": "code",
   "execution_count": 25,
   "metadata": {},
   "outputs": [
    {
     "data": {
      "text/plain": [
       "matrix([[ 0.5, -0.5,  0. ],\n",
       "        [-0.5,  0.5,  0. ],\n",
       "        [ 0. ,  0. ,  0. ]])"
      ]
     },
     "execution_count": 25,
     "metadata": {},
     "output_type": "execute_result"
    }
   ],
   "source": [
    "s1"
   ]
  },
  {
   "cell_type": "code",
   "execution_count": 26,
   "metadata": {
    "scrolled": true
   },
   "outputs": [
    {
     "data": {
      "text/plain": [
       "matrix([[0.5, 0. , 0. ],\n",
       "        [0. , 0. , 0. ],\n",
       "        [0. , 0. , 0. ]])"
      ]
     },
     "execution_count": 26,
     "metadata": {},
     "output_type": "execute_result"
    }
   ],
   "source": [
    "s2"
   ]
  },
  {
   "cell_type": "code",
   "execution_count": null,
   "metadata": {},
   "outputs": [],
   "source": [
    "类间离散度矩阵"
   ]
  },
  {
   "cell_type": "code",
   "execution_count": 27,
   "metadata": {},
   "outputs": [
    {
     "data": {
      "text/plain": [
       "matrix([[ 0.5 , -0.25,  0.  ],\n",
       "        [-0.25,  0.25,  0.  ],\n",
       "        [ 0.  ,  0.  ,  0.  ]])"
      ]
     },
     "execution_count": 27,
     "metadata": {},
     "output_type": "execute_result"
    }
   ],
   "source": [
    "sw"
   ]
  },
  {
   "cell_type": "code",
   "execution_count": 38,
   "metadata": {},
   "outputs": [
    {
     "data": {
      "text/plain": [
       "matrix([[2.53],\n",
       "        [7.79]])"
      ]
     },
     "execution_count": 38,
     "metadata": {},
     "output_type": "execute_result"
    }
   ],
   "source": [
    "w1[:,1]"
   ]
  },
  {
   "cell_type": "code",
   "execution_count": 36,
   "metadata": {},
   "outputs": [
    {
     "data": {
      "text/plain": [
       "matrix([[ 0.59087143, -1.3338    ],\n",
       "        [-1.3338    ,  3.5596    ]])"
      ]
     },
     "execution_count": 36,
     "metadata": {},
     "output_type": "execute_result"
    }
   ],
   "source": [
    "sw"
   ]
  },
  {
   "cell_type": "markdown",
   "metadata": {},
   "source": [
    "![](picture/3.png)"
   ]
  },
  {
   "cell_type": "code",
   "execution_count": 29,
   "metadata": {},
   "outputs": [],
   "source": [
    "sb = (m1-m2)*(m1-m2).T"
   ]
  },
  {
   "cell_type": "code",
   "execution_count": 30,
   "metadata": {},
   "outputs": [
    {
     "data": {
      "text/plain": [
       "matrix([[ 0.  ,  0.  ,  0.  ],\n",
       "        [ 0.  ,  0.25, -0.5 ],\n",
       "        [ 0.  , -0.5 ,  1.  ]])"
      ]
     },
     "execution_count": 30,
     "metadata": {},
     "output_type": "execute_result"
    }
   ],
   "source": [
    "sb"
   ]
  },
  {
   "cell_type": "code",
   "execution_count": 33,
   "metadata": {},
   "outputs": [
    {
     "data": {
      "text/plain": [
       "matrix([[ 0.5 , -0.25,  0.  ],\n",
       "        [-0.25,  0.25,  0.  ],\n",
       "        [ 0.  ,  0.  ,  0.  ]])"
      ]
     },
     "execution_count": 33,
     "metadata": {},
     "output_type": "execute_result"
    }
   ],
   "source": [
    "sw"
   ]
  },
  {
   "cell_type": "code",
   "execution_count": 52,
   "metadata": {},
   "outputs": [
    {
     "data": {
      "text/plain": [
       "matrix([[10.97816928,  4.11357517],\n",
       "        [ 4.11357517,  1.82230772]])"
      ]
     },
     "execution_count": 52,
     "metadata": {},
     "output_type": "execute_result"
    }
   ],
   "source": [
    "np.linalg.inv(sw)"
   ]
  },
  {
   "cell_type": "code",
   "execution_count": 53,
   "metadata": {},
   "outputs": [
    {
     "data": {
      "text/plain": [
       "matrix([[3.0525],\n",
       "        [6.385 ]])"
      ]
     },
     "execution_count": 53,
     "metadata": {},
     "output_type": "execute_result"
    }
   ],
   "source": [
    "m1"
   ]
  },
  {
   "cell_type": "markdown",
   "metadata": {},
   "source": [
    "![](picture/6.png)"
   ]
  },
  {
   "cell_type": "code",
   "execution_count": 34,
   "metadata": {},
   "outputs": [
    {
     "ename": "LinAlgError",
     "evalue": "Singular matrix",
     "output_type": "error",
     "traceback": [
      "\u001b[1;31m---------------------------------------------------------------------------\u001b[0m",
      "\u001b[1;31mLinAlgError\u001b[0m                               Traceback (most recent call last)",
      "\u001b[1;32m<ipython-input-34-78f00892bd73>\u001b[0m in \u001b[0;36m<module>\u001b[1;34m\u001b[0m\n\u001b[1;32m----> 1\u001b[1;33m \u001b[0mw_star\u001b[0m \u001b[1;33m=\u001b[0m \u001b[0mnp\u001b[0m\u001b[1;33m.\u001b[0m\u001b[0mlinalg\u001b[0m\u001b[1;33m.\u001b[0m\u001b[0minv\u001b[0m\u001b[1;33m(\u001b[0m\u001b[0msw\u001b[0m\u001b[1;33m)\u001b[0m\u001b[1;33m*\u001b[0m\u001b[1;33m(\u001b[0m\u001b[0mm1\u001b[0m\u001b[1;33m-\u001b[0m\u001b[0mm2\u001b[0m\u001b[1;33m)\u001b[0m\u001b[1;33m\u001b[0m\u001b[1;33m\u001b[0m\u001b[0m\n\u001b[0m",
      "\u001b[1;32m<__array_function__ internals>\u001b[0m in \u001b[0;36minv\u001b[1;34m(*args, **kwargs)\u001b[0m\n",
      "\u001b[1;32m~\\AppData\\Roaming\\Python\\Python37\\site-packages\\numpy\\linalg\\linalg.py\u001b[0m in \u001b[0;36minv\u001b[1;34m(a)\u001b[0m\n\u001b[0;32m    543\u001b[0m     \u001b[0msignature\u001b[0m \u001b[1;33m=\u001b[0m \u001b[1;34m'D->D'\u001b[0m \u001b[1;32mif\u001b[0m \u001b[0misComplexType\u001b[0m\u001b[1;33m(\u001b[0m\u001b[0mt\u001b[0m\u001b[1;33m)\u001b[0m \u001b[1;32melse\u001b[0m \u001b[1;34m'd->d'\u001b[0m\u001b[1;33m\u001b[0m\u001b[1;33m\u001b[0m\u001b[0m\n\u001b[0;32m    544\u001b[0m     \u001b[0mextobj\u001b[0m \u001b[1;33m=\u001b[0m \u001b[0mget_linalg_error_extobj\u001b[0m\u001b[1;33m(\u001b[0m\u001b[0m_raise_linalgerror_singular\u001b[0m\u001b[1;33m)\u001b[0m\u001b[1;33m\u001b[0m\u001b[1;33m\u001b[0m\u001b[0m\n\u001b[1;32m--> 545\u001b[1;33m     \u001b[0mainv\u001b[0m \u001b[1;33m=\u001b[0m \u001b[0m_umath_linalg\u001b[0m\u001b[1;33m.\u001b[0m\u001b[0minv\u001b[0m\u001b[1;33m(\u001b[0m\u001b[0ma\u001b[0m\u001b[1;33m,\u001b[0m \u001b[0msignature\u001b[0m\u001b[1;33m=\u001b[0m\u001b[0msignature\u001b[0m\u001b[1;33m,\u001b[0m \u001b[0mextobj\u001b[0m\u001b[1;33m=\u001b[0m\u001b[0mextobj\u001b[0m\u001b[1;33m)\u001b[0m\u001b[1;33m\u001b[0m\u001b[1;33m\u001b[0m\u001b[0m\n\u001b[0m\u001b[0;32m    546\u001b[0m     \u001b[1;32mreturn\u001b[0m \u001b[0mwrap\u001b[0m\u001b[1;33m(\u001b[0m\u001b[0mainv\u001b[0m\u001b[1;33m.\u001b[0m\u001b[0mastype\u001b[0m\u001b[1;33m(\u001b[0m\u001b[0mresult_t\u001b[0m\u001b[1;33m,\u001b[0m \u001b[0mcopy\u001b[0m\u001b[1;33m=\u001b[0m\u001b[1;32mFalse\u001b[0m\u001b[1;33m)\u001b[0m\u001b[1;33m)\u001b[0m\u001b[1;33m\u001b[0m\u001b[1;33m\u001b[0m\u001b[0m\n\u001b[0;32m    547\u001b[0m \u001b[1;33m\u001b[0m\u001b[0m\n",
      "\u001b[1;32m~\\AppData\\Roaming\\Python\\Python37\\site-packages\\numpy\\linalg\\linalg.py\u001b[0m in \u001b[0;36m_raise_linalgerror_singular\u001b[1;34m(err, flag)\u001b[0m\n\u001b[0;32m     86\u001b[0m \u001b[1;33m\u001b[0m\u001b[0m\n\u001b[0;32m     87\u001b[0m \u001b[1;32mdef\u001b[0m \u001b[0m_raise_linalgerror_singular\u001b[0m\u001b[1;33m(\u001b[0m\u001b[0merr\u001b[0m\u001b[1;33m,\u001b[0m \u001b[0mflag\u001b[0m\u001b[1;33m)\u001b[0m\u001b[1;33m:\u001b[0m\u001b[1;33m\u001b[0m\u001b[1;33m\u001b[0m\u001b[0m\n\u001b[1;32m---> 88\u001b[1;33m     \u001b[1;32mraise\u001b[0m \u001b[0mLinAlgError\u001b[0m\u001b[1;33m(\u001b[0m\u001b[1;34m\"Singular matrix\"\u001b[0m\u001b[1;33m)\u001b[0m\u001b[1;33m\u001b[0m\u001b[1;33m\u001b[0m\u001b[0m\n\u001b[0m\u001b[0;32m     89\u001b[0m \u001b[1;33m\u001b[0m\u001b[0m\n\u001b[0;32m     90\u001b[0m \u001b[1;32mdef\u001b[0m \u001b[0m_raise_linalgerror_nonposdef\u001b[0m\u001b[1;33m(\u001b[0m\u001b[0merr\u001b[0m\u001b[1;33m,\u001b[0m \u001b[0mflag\u001b[0m\u001b[1;33m)\u001b[0m\u001b[1;33m:\u001b[0m\u001b[1;33m\u001b[0m\u001b[1;33m\u001b[0m\u001b[0m\n",
      "\u001b[1;31mLinAlgError\u001b[0m: Singular matrix"
     ]
    }
   ],
   "source": [
    "w_star = np.linalg.inv(sw)*(m1-m2)"
   ]
  },
  {
   "cell_type": "code",
   "execution_count": null,
   "metadata": {},
   "outputs": [],
   "source": [
    "w_star 是一个确定的值,参数判别函数"
   ]
  },
  {
   "cell_type": "code",
   "execution_count": null,
   "metadata": {},
   "outputs": [],
   "source": [
    "看y空间(一维)离散度"
   ]
  },
  {
   "cell_type": "code",
   "execution_count": null,
   "metadata": {},
   "outputs": [],
   "source": [
    "计算w0，初始偏移，类似截距"
   ]
  },
  {
   "cell_type": "markdown",
   "metadata": {},
   "source": [
    "![](picture/7.png)\n",
    "![](picture/8.png)"
   ]
  },
  {
   "cell_type": "code",
   "execution_count": 49,
   "metadata": {},
   "outputs": [
    {
     "data": {
      "text/plain": [
       "matrix([[10.99340474],\n",
       "        [ 4.58328742]])"
      ]
     },
     "execution_count": 49,
     "metadata": {},
     "output_type": "execute_result"
    }
   ],
   "source": [
    "w_star"
   ]
  },
  {
   "cell_type": "code",
   "execution_count": 48,
   "metadata": {},
   "outputs": [
    {
     "name": "stdout",
     "output_type": "stream",
     "text": [
      "[[62.82165819]]\n"
     ]
    }
   ],
   "source": [
    "# 先求类均值\n",
    "res1 = 0\n",
    "for i in range(sz1):\n",
    "    res1 = res1 + w1[:,i].T*w_star\n",
    "res1/=sz1\n",
    "# print(res1)\n",
    "res2 = 0\n",
    "for i in range(sz2):\n",
    "    res2 = res2+w2[:,i].T*w_star\n",
    "    \n",
    "w0 = -(res1*sz1+res2*sz2)/(sz1+sz2)\n"
   ]
  },
  {
   "cell_type": "code",
   "execution_count": 54,
   "metadata": {},
   "outputs": [
    {
     "data": {
      "text/plain": [
       "(array([1.        , 1.08163265, 1.16326531, 1.24489796, 1.32653061,\n",
       "        1.40816327, 1.48979592, 1.57142857, 1.65306122, 1.73469388,\n",
       "        1.81632653, 1.89795918, 1.97959184, 2.06122449, 2.14285714,\n",
       "        2.2244898 , 2.30612245, 2.3877551 , 2.46938776, 2.55102041,\n",
       "        2.63265306, 2.71428571, 2.79591837, 2.87755102, 2.95918367,\n",
       "        3.04081633, 3.12244898, 3.20408163, 3.28571429, 3.36734694,\n",
       "        3.44897959, 3.53061224, 3.6122449 , 3.69387755, 3.7755102 ,\n",
       "        3.85714286, 3.93877551, 4.02040816, 4.10204082, 4.18367347,\n",
       "        4.26530612, 4.34693878, 4.42857143, 4.51020408, 4.59183673,\n",
       "        4.67346939, 4.75510204, 4.83673469, 4.91836735, 5.        ]),\n",
       " matrix([[19.75351817],\n",
       "         [19.55771531],\n",
       "         [19.36191244],\n",
       "         [19.16610958],\n",
       "         [18.97030672],\n",
       "         [18.77450386],\n",
       "         [18.578701  ],\n",
       "         [18.38289813],\n",
       "         [18.18709527],\n",
       "         [17.99129241],\n",
       "         [17.79548955],\n",
       "         [17.59968668],\n",
       "         [17.40388382],\n",
       "         [17.20808096],\n",
       "         [17.0122781 ],\n",
       "         [16.81647524],\n",
       "         [16.62067237],\n",
       "         [16.42486951],\n",
       "         [16.22906665],\n",
       "         [16.03326379],\n",
       "         [15.83746093],\n",
       "         [15.64165806],\n",
       "         [15.4458552 ],\n",
       "         [15.25005234],\n",
       "         [15.05424948],\n",
       "         [14.85844662],\n",
       "         [14.66264375],\n",
       "         [14.46684089],\n",
       "         [14.27103803],\n",
       "         [14.07523517],\n",
       "         [13.8794323 ],\n",
       "         [13.68362944],\n",
       "         [13.48782658],\n",
       "         [13.29202372],\n",
       "         [13.09622086],\n",
       "         [12.90041799],\n",
       "         [12.70461513],\n",
       "         [12.50881227],\n",
       "         [12.31300941],\n",
       "         [12.11720655],\n",
       "         [11.92140368],\n",
       "         [11.72560082],\n",
       "         [11.52979796],\n",
       "         [11.3339951 ],\n",
       "         [11.13819224],\n",
       "         [10.94238937],\n",
       "         [10.74658651],\n",
       "         [10.55078365],\n",
       "         [10.35498079],\n",
       "         [10.15917793]]))"
      ]
     },
     "execution_count": 54,
     "metadata": {},
     "output_type": "execute_result"
    }
   ],
   "source": [
    "get_line(w_star, w0)"
   ]
  },
  {
   "cell_type": "code",
   "execution_count": 55,
   "metadata": {},
   "outputs": [
    {
     "data": {
      "text/plain": [
       "matrix([[10.99340474],\n",
       "        [ 4.58328742]])"
      ]
     },
     "execution_count": 55,
     "metadata": {},
     "output_type": "execute_result"
    }
   ],
   "source": [
    "w_star"
   ]
  },
  {
   "cell_type": "code",
   "execution_count": 51,
   "metadata": {},
   "outputs": [],
   "source": [
    "# 判别函数"
   ]
  },
  {
   "cell_type": "code",
   "execution_count": 19,
   "metadata": {},
   "outputs": [],
   "source": [
    "def get_res(w1,w2,X, w0 ,w_star):\n",
    "    res = X * w_star + w0\n",
    "    if res >=0:\n",
    "        print('合格')\n",
    "        w1=np.append(w1, X, axis=0)\n",
    "    else:\n",
    " \n",
    "        print('不合格')\n",
    "        w2=np.append(w2, X, axis=0)\n",
    "    return w1,w2\n"
   ]
  },
  {
   "cell_type": "code",
   "execution_count": 20,
   "metadata": {},
   "outputs": [],
   "source": [
    "def get_line(w, w0):\n",
    "    # 画两类之间的分界线\n",
    "    w = np.array(w)\n",
    "    x = np.linspace(1, 5, 50)\n",
    "    #print(x)\n",
    "    y = -w[0,0]*x/w[1,0]-w0/w[1,0]\n",
    "    #权向量，对应wi  w0 为常数项，y = w2*x2 + w1*x1 + w0\n",
    "    y=y.reshape(-1,1)#将行向量转置\n",
    "    return x, y\n"
   ]
  },
  {
   "cell_type": "code",
   "execution_count": 21,
   "metadata": {},
   "outputs": [],
   "source": [
    "def show_fig(w):\n",
    "    fig = plt.figure()\n",
    "    ax1 = fig.add_subplot(111)\n",
    "    ax1.scatter(np.array(w1[:,0]), np.array(w1[:,1]),c='r')\n",
    "    ax1.scatter(np.array(w2[:,0]), np.array(w2[:,1]),c='y')\n",
    "    ax1.plot(wx,wy) \n",
    "    ax1.scatter(np.array(w[0,0]), np.array(w[0,1]),c='b')\n",
    "    plt.show()"
   ]
  },
  {
   "cell_type": "code",
   "execution_count": 15,
   "metadata": {
    "scrolled": true
   },
   "outputs": [],
   "source": [
    "def fisher(w1, w2):    \n",
    "    #将行向量转置为列向量\n",
    "    w1=w1.T\n",
    "    w2=w2.T\n",
    " \n",
    "    sz1 = np.size(w1,1)\n",
    "    sz2 = np.size(w2,1)\n",
    "    \n",
    "    #  1.求wi均值\n",
    "    m1 = np.mean(w1, axis=1)\n",
    "    m2 = np.mean(w2, axis=1)\n",
    "  \n",
    "    # 2.计算样本内离散度 Si 和总类内离散度矩阵 Sw\n",
    "    s1 = np.zeros((w1.shape[0],w1.shape[0]))\n",
    "    for i in range(w1.shape[1]):#共有w1.shape[1]个样本\n",
    "        \n",
    "        tmp = w1[:,i] - m1\n",
    "        s1 = s1 + tmp * tmp.T\n",
    "        \n",
    "    s2 =  np.zeros((w2.shape[0],w2.shape[0]))\n",
    "    for i in range(w2.shape[1]):\n",
    "        tmp = w2[:,i] - m2\n",
    "        s2 = s2 + tmp * tmp.T\n",
    "    sw = (sz1*s1 + sz2*s2)/(sz1+sz2)\n",
    " \n",
    "    # 3.计算样本间离散度 sb\n",
    "    sb = (m1 - m2) * (m1 - m2).T\n",
    " \n",
    "    # 4.计算w_star\n",
    "    w_star = np.linalg.inv(sw) * (m1-m2)\n",
    "    \n",
    " \n",
    "    #计算类均值\n",
    "    res1=0\n",
    "    for i in range(sz1):\n",
    "        res1 = res1 + w1[:,i].T*w_star\n",
    "    res1/=sz1\n",
    "    \n",
    "    res2=0\n",
    "    for i in range(sz2):\n",
    "        res2 = res2 +w2[:,i].T*w_star\n",
    "        print(res2)\n",
    "    res2/=sz2\n",
    "    print(res1)\n",
    "    #return -(m1+m2)/2, w_star\n",
    "    return -(res1*sz1+res2*sz2)/(sz1+sz2), w_star"
   ]
  },
  {
   "cell_type": "code",
   "execution_count": 16,
   "metadata": {},
   "outputs": [
    {
     "name": "stdout",
     "output_type": "stream",
     "text": [
      "[[48.80444615]]\n",
      "[[101.05824818]]\n",
      "[[153.13985343]]\n",
      "[[62.82165819]]\n"
     ]
    }
   ],
   "source": [
    "w1 = np.mat([[2.95, 6.63], [2.53, 7.79], [3.57, 5.65],[3.16,5.47]])\n",
    "w2 = np.mat([[2.58, 4.46], [2.16, 6.22], [3.27, 3.52]])\n",
    "    \n",
    "w0,w_star=fisher(w1, w2)"
   ]
  },
  {
   "cell_type": "code",
   "execution_count": 17,
   "metadata": {},
   "outputs": [
    {
     "data": {
      "text/plain": [
       "matrix([[-57.77521231]])"
      ]
     },
     "execution_count": 17,
     "metadata": {},
     "output_type": "execute_result"
    }
   ],
   "source": [
    "w0"
   ]
  },
  {
   "cell_type": "code",
   "execution_count": null,
   "metadata": {},
   "outputs": [],
   "source": [
    "if __name__ == '__main__':\n",
    "  \n",
    "    w1 = np.mat([[2.95, 6.63], [2.53, 7.79], [3.57, 5.65],[3.16,5.47]])\n",
    "    w2 = np.mat([[2.58, 4.46], [2.16, 6.22], [3.27, 3.52]])\n",
    "    \n",
    "    w0,w_star=fisher(w1, w2)\n",
    "    \n",
    "    fig = plt.figure()\n",
    "    ax1 = fig.add_subplot(111)#画布布局\n",
    "    ax1.scatter(np.array(w1[:,0]), np.array(w1[:,1]),c='r')#x,y,cl\n",
    "    ax1.scatter(np.array(w2[:,0]), np.array(w2[:,1]),c='y')#\n",
    "    wx,wy=get_line(w_star, w0)\n",
    "    #plot(wx,wy)\n",
    "    # print(wy)\n",
    "    #wx=[wx]\n",
    "    #显示分类情况\n",
    "    ax1.plot(wx,wy)    \n",
    "    plt.show()\n",
    " \n",
    "    while True:       \n",
    "        n1,n2= map(float,input().split())\n",
    "        #print(n1,n2)\n",
    "        w=np.mat([n1,n2])\n",
    "        show_fig(w)\n",
    "        w1,w2=get_res(w1,w2,w,np.array(w0),w_star)\n"
   ]
  },
  {
   "cell_type": "code",
   "execution_count": null,
   "metadata": {
    "scrolled": true
   },
   "outputs": [
    {
     "data": {
      "image/png": "[encoded data removed]",
      "text/plain": [
       "<Figure size 432x288 with 1 Axes>"
      ]
     },
     "metadata": {
      "needs_background": "light"
     },
     "output_type": "display_data"
    },
    {
     "name": "stdout",
     "output_type": "stream",
     "text": [
      "1 2\n"
     ]
    },
    {
     "data": {
      "image/png": "[encoded data removed]",
      "text/plain": [
       "<Figure size 432x288 with 1 Axes>"
      ]
     },
     "metadata": {
      "needs_background": "light"
     },
     "output_type": "display_data"
    },
    {
     "name": "stdout",
     "output_type": "stream",
     "text": [
      "不合格\n",
      "4.5 7\n"
     ]
    },
    {
     "data": {
      "image/png": "[encoded data removed]",
      "text/plain": [
       "<Figure size 432x288 with 1 Axes>"
      ]
     },
     "metadata": {
      "needs_background": "light"
     },
     "output_type": "display_data"
    },
    {
     "name": "stdout",
     "output_type": "stream",
     "text": [
      "合格\n"
     ]
    }
   ],
   "source": [
    "\n",
    " \n",
    "def fisher(w1, w2):    \n",
    "    #将行向量转置为列向量\n",
    "    w1=w1.T\n",
    "    w2=w2.T\n",
    " \n",
    "    sz1 = np.size(w1,1)\n",
    "    sz2 = np.size(w2,1)\n",
    "    \n",
    "    #  1.求wi均值\n",
    "    m1 = np.mean(w1, axis=1)\n",
    "    m2 = np.mean(w2, axis=1)\n",
    "  \n",
    "    # 2.计算样本内离散度 Si 和总类内离散度矩阵 Sw\n",
    "    s1 = np.zeros((w1.shape[0],w1.shape[0]))\n",
    "    for i in range(w1.shape[1]):#共有w1.shape[1]个样本\n",
    "        \n",
    "        tmp = w1[:,i] - m1\n",
    "        s1 = s1 + tmp * tmp.T\n",
    " \n",
    "    s2 =  np.zeros((w2.shape[0],w2.shape[0]))\n",
    "    for i in range(w2.shape[1]):\n",
    "        tmp = w2[:,i] - m2\n",
    "        s2 = s2 + tmp * tmp.T\n",
    "    sw = (sz1*s1 + sz2*s2)/(sz1+sz2)\n",
    " \n",
    "    # 3.计算样本间离散度 sb\n",
    "    sb = (m1 - m2) * (m1 - m2).T\n",
    " \n",
    "    # 4.计算w_star\n",
    "    w_star = np.linalg.inv(sw) * (m1-m2)\n",
    "    \n",
    " \n",
    "    #计算类均值\n",
    "    res1=0\n",
    "    for i in range(sz1):\n",
    "        res1 = res1 + w1[:,i].T*w_star\n",
    "    res1/=sz1\n",
    "    \n",
    "    res2=0\n",
    "    for i in range(sz2):\n",
    "        res2 = res2 +w2[:,i].T*w_star\n",
    "    res2/=sz2\n",
    "    \n",
    "    '''\n",
    "    # 4.另外一种计算 w_star的方式,\n",
    "    #求sw^(-1)*sb 的特征值，特征向量\n",
    "    t = np.linalg.inv(sw)*sb\n",
    "    v, Q = np.linalg.eig(t)\n",
    "    \n",
    "    #找到最大特征值对应的特征向量\n",
    "    res_pos = v.argmax(axis=0)\n",
    "    w_star2 = Q[:,res_pos]\n",
    "    \n",
    "    #计算 sw^(-1/2) \n",
    "    v2,Q2 =np.linalg.eig(sw)\n",
    "    \n",
    "    v_half=np.zeros((v2.size,v2.size))\n",
    "    for i in range(v2.size):\n",
    "        v_half[i][i]=math.sqrt(v2[i])\n",
    "    sw_half=Q2 * v_half*(Q2**(-1))\n",
    "    \n",
    "    #最后的结果为 sw^(-1/2)*w_star\n",
    "    sw_half=sw_half**(-1)\n",
    "    w_star2=sw_half*w_star2\n",
    "    res1=0\n",
    "    for i in range(sz1):\n",
    "        res1 = res1 + w1[:,i].T*w_star2\n",
    "    res1/=sz1\n",
    "    \n",
    "    res2=0\n",
    "    for i in range(sz2):\n",
    "        res2 = res2 +w2[:,i].T*w_star2\n",
    "    res2/=sz2\n",
    "    '''\n",
    "    #return -(m1+m2)/2, w_star\n",
    "    return -(res1*sz1+res2*sz2)/(sz1+sz2), w_star\n",
    "\n",
    "def get_res(w1,w2,X, w0 ,w_star):\n",
    "    res = X * w_star + w0\n",
    "    if res >=0:\n",
    "        print('合格')\n",
    "        w1=np.append(w1, X, axis=0)\n",
    "        #print(w1)\n",
    "    else:\n",
    " \n",
    "        print('不合格')\n",
    "        w2=np.append(w2, X, axis=0)\n",
    "    return w1,w2\n",
    "    \n",
    "    \n",
    "def get_line(w, w0):\n",
    "    # 换两类之间的分界线\n",
    "    w = np.array(w)\n",
    "    x = np.linspace(1, 5, 50)\n",
    "    #print(x)\n",
    "    y = -w[0,0]*x/w[1,0]-w0/w[1,0]\n",
    "    y=y.reshape(-1,1)#将行向量转置\n",
    "    return x, y\n",
    " \n",
    "def show_fig(w):\n",
    "     fig = plt.figure()\n",
    "     ax1 = fig.add_subplot(111)\n",
    "     ax1.scatter(np.array(w1[:,0]), np.array(w1[:,1]),c='r')\n",
    "     ax1.scatter(np.array(w2[:,0]), np.array(w2[:,1]),c='y')\n",
    "     ax1.plot(wx,wy) \n",
    "     ax1.scatter(np.array(w[0,0]), np.array(w[0,1]),c='b')\n",
    "     plt.show()\n",
    " \n",
    " \n",
    "if __name__ == '__main__':\n",
    "  \n",
    "    w1 = np.mat([[2.95, 6.63], [2.53, 7.79], [3.57, 5.65],[3.16,5.47]])\n",
    "    w2 = np.mat([[2.58, 4.46], [2.16, 6.22], [3.27, 3.52]])\n",
    "    \n",
    "    w0,w_star=fisher(w1, w2)\n",
    "#     w0 = 0\n",
    "    \n",
    "    fig = plt.figure()\n",
    "    ax1 = fig.add_subplot(111)#画布布局\n",
    "    ax1.scatter(np.array(w1[:,0]), np.array(w1[:,1]),c='r')#x,y,cl\n",
    "    ax1.scatter(np.array(w2[:,0]), np.array(w2[:,1]),c='y')#\n",
    "    wx,wy=get_line(w_star, w0)\n",
    "    #plot(wx,wy)\n",
    "    # print(wy)\n",
    "    #wx=[wx]\n",
    "    #显示分类情况\n",
    "    ax1.plot(wx,wy)    \n",
    "    plt.show()\n",
    " \n",
    "    #输入样例\n",
    "    while True:       \n",
    "        n1,n2= map(float,input().split())\n",
    "        #print(n1,n2)\n",
    "        w=np.mat([n1,n2])\n",
    "        show_fig(w)\n",
    "        w1,w2=get_res(w1,w2,w,np.array(w0),w_star)"
   ]
  },
  {
   "cell_type": "code",
   "execution_count": null,
   "metadata": {},
   "outputs": [],
   "source": []
  },
  {
   "cell_type": "code",
   "execution_count": null,
   "metadata": {},
   "outputs": [],
   "source": []
  },
  {
   "cell_type": "code",
   "execution_count": null,
   "metadata": {},
   "outputs": [],
   "source": []
  },
  {
   "cell_type": "code",
   "execution_count": null,
   "metadata": {},
   "outputs": [],
   "source": []
  },
  {
   "cell_type": "code",
   "execution_count": null,
   "metadata": {},
   "outputs": [],
   "source": []
  },
  {
   "cell_type": "code",
   "execution_count": null,
   "metadata": {},
   "outputs": [],
   "source": []
  },
  {
   "cell_type": "code",
   "execution_count": null,
   "metadata": {},
   "outputs": [],
   "source": []
  },
  {
   "cell_type": "code",
   "execution_count": null,
   "metadata": {},
   "outputs": [],
   "source": []
  },
  {
   "cell_type": "code",
   "execution_count": null,
   "metadata": {},
   "outputs": [],
   "source": []
  },
  {
   "cell_type": "code",
   "execution_count": null,
   "metadata": {},
   "outputs": [],
   "source": []
  },
  {
   "cell_type": "code",
   "execution_count": null,
   "metadata": {},
   "outputs": [],
   "source": []
  },
  {
   "cell_type": "code",
   "execution_count": null,
   "metadata": {},
   "outputs": [],
   "source": []
  },
  {
   "cell_type": "code",
   "execution_count": null,
   "metadata": {},
   "outputs": [],
   "source": []
  }
 ],
 "metadata": {
  "kernelspec": {
   "display_name": "Python 3.7.3 ('base')",
   "language": "python",
   "name": "python3"
  },
  "language_info": {
   "codemirror_mode": {
    "name": "ipython",
    "version": 3
   },
   "file_extension": ".py",
   "mimetype": "text/x-python",
   "name": "python",
   "nbconvert_exporter": "python",
   "pygments_lexer": "ipython3",
   "version": "3.7.3"
  },
  "vscode": {
   "interpreter": {
    "hash": "b0a0267b9d74295007041bfed4664576fc544c3c67a38063ff9d83e74a948374"
   }
  }
 },
 "nbformat": 4,
 "nbformat_minor": 2
}
