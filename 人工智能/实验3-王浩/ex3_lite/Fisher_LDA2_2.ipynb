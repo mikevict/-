{
 "cells": [
  {
   "cell_type": "code",
   "execution_count": 1,
   "metadata": {},
   "outputs": [],
   "source": [
    "import random\n",
    "import os\n",
    "import numpy as np\n",
    "import matplotlib.pyplot as plt\n",
    "import copy\n",
    "import  matplotlib\n",
    "import random\n",
    "from numpy.linalg import  cholesky\n",
    "from PIL import Image\n",
    "from sklearn.decomposition import PCA\n",
    "import warnings\n",
    "warnings.filterwarnings(\"ignore\")"
   ]
  },
  {
   "cell_type": "code",
   "execution_count": 2,
   "metadata": {},
   "outputs": [],
   "source": [
    "def LDA(x, y,label1,label2):\n",
    "    x_1 = np.array([x[i] for i in range(len(x)) if y[i] == label1])\n",
    "    x_2 = np.array([x[i] for i in range(len(x)) if y[i] == label2])\n",
    "    mju1 = np.mean(x_1, axis=0)\n",
    "    mju2 = np.mean(x_2, axis=0)\n",
    "    sw1 = np.dot((x_1 - mju1).T, (x_1 - mju1)) # 类内里散度矩阵\n",
    "    sw2 = np.dot((x_2 - mju2).T, (x_2 - mju2))\n",
    "    sw = sw1 + sw2#类间离散度矩阵\n",
    "    #print(np.linalg.det(sw))\n",
    "    w_star = np.dot(np.linalg.inv(sw), (mju1 - mju2))\n",
    "    w0 = 1/2*(np.dot(w_star.T,mju1) + np.dot(w_star.T,mju2))\n",
    "    return w_star,w0"
   ]
  },
  {
   "cell_type": "code",
   "execution_count": 3,
   "metadata": {},
   "outputs": [],
   "source": [
    "def judge(w,w0,samples):\n",
    "    t=np.dot(w.T,samples)+w0\n",
    "    if t>0:\n",
    "        print(\"第一个人\")\n",
    "        return True\n",
    "    else:\n",
    "        print(\"第二个人\")\n",
    "        return False"
   ]
  },
  {
   "cell_type": "code",
   "execution_count": 4,
   "metadata": {},
   "outputs": [
    {
     "ename": "NameError",
     "evalue": "name 'samples' is not defined",
     "output_type": "error",
     "traceback": [
      "\u001b[1;31m---------------------------------------------------------------------------\u001b[0m",
      "\u001b[1;31mNameError\u001b[0m                                 Traceback (most recent call last)",
      "\u001b[1;32m<ipython-input-4-41a57ec04ddc>\u001b[0m in \u001b[0;36m<module>\u001b[1;34m\u001b[0m\n\u001b[1;32m----> 1\u001b[1;33m \u001b[0msamples\u001b[0m\u001b[1;33m.\u001b[0m\u001b[0mshape\u001b[0m\u001b[1;33m\u001b[0m\u001b[1;33m\u001b[0m\u001b[0m\n\u001b[0m",
      "\u001b[1;31mNameError\u001b[0m: name 'samples' is not defined"
     ]
    }
   ],
   "source": [
    "samples.shape"
   ]
  },
  {
   "cell_type": "code",
   "execution_count": 5,
   "metadata": {},
   "outputs": [],
   "source": [
    "def read_image():\n",
    "    data=[]\n",
    "    train_data=[]\n",
    "    train_label=[]\n",
    "    test_data=[]\n",
    "    test_label=[]\n",
    "    path=r'orl_faces\\s1'\n",
    "    allfile=os.listdir(path)\n",
    "    for i in range(0,8):#前8个作为训练集\n",
    "        file_path=allfile[i]\n",
    "        tmpfile_path=path+'\\\\'+file_path\n",
    "        im=Image.open(tmpfile_path)#打开图片\n",
    "        im=im.resize((24,21),Image.ANTIALIAS)#要求的大小（以像素为单位），以二元组表示：（宽度，高度）用于表示改变图像过程用的差值方法\n",
    "        image_array=np.array(im)#转化为array数组\n",
    "        image_array=image_array.reshape(1,24*21)\n",
    "        data.append(image_array[0])\n",
    "        train_data.append(image_array[0])\n",
    "        train_label.append(1)#添加标签\n",
    "    for i in range(8,10):\n",
    "        file_path=allfile[i]\n",
    "        tmpfile_path=path+'\\\\'+file_path\n",
    "        im=Image.open(tmpfile_path)\n",
    "        im=im.resize((24,21),Image.ANTIALIAS)#要求的大小（以像素为单位），以二元组表示：（宽度，高度）用于表示改变图像过程用的差值方法\n",
    "        image_array=np.array(im)#转化为array数组\n",
    "        image_array=image_array.reshape(1,24*21)\n",
    "        data.append(image_array[0])\n",
    "        test_data.append(image_array[0])\n",
    "        test_label.append(1)\n",
    "    path=r'orl_faces\\s2'\n",
    "    allfile=os.listdir(path)\n",
    "    for i in range(0,8):#前8个作为训练集\n",
    "        file_path=allfile[i]\n",
    "        tmpfile_path=path+'\\\\'+file_path\n",
    "        im=Image.open(tmpfile_path)#打开图片\n",
    "        im=im.resize((24,21),Image.ANTIALIAS)#要求的大小（以像素为单位），以二元组表示：（宽度，高度）用于表示改变图像过程用的差值方法\n",
    "        image_array=np.array(im)#转化为array数组\n",
    "        image_array=image_array.reshape(1,24*21)\n",
    "        data.append(image_array[0])\n",
    "        train_data.append(image_array[0])\n",
    "        train_label.append(0)#添加标签\n",
    "    for i in range(8,10):\n",
    "        file_path=allfile[i]\n",
    "        tmpfile_path=path+'\\\\'+file_path\n",
    "        im=Image.open(tmpfile_path)\n",
    "        im=im.resize((24,21),Image.ANTIALIAS)#要求的大小（以像素为单位），以二元组表示：（宽度，高度）用于表示改变图像过程用的差值方法\n",
    "        image_array=np.array(im)#转化为array数组\n",
    "        image_array=image_array.reshape(1,24*21)\n",
    "        data.append(image_array[0])\n",
    "        test_data.append(image_array[0])\n",
    "        test_label.append(0)\n",
    "    return data,train_data,train_label,test_data,test_label#将所有要分的类 分为train和test，并且保存对应的标签"
   ]
  },
  {
   "cell_type": "code",
   "execution_count": 6,
   "metadata": {},
   "outputs": [],
   "source": []
  },
  {
   "cell_type": "code",
   "execution_count": 6,
   "metadata": {},
   "outputs": [],
   "source": [
    "def draw_line(w,w0):\n",
    "    w = w.reshape(2,1)\n",
    "    # 画判别函数\n",
    "    x1 = -500#左边界w_star[2,0]    \n",
    "    y1 = - w[0,0] * x1 / w[1,0] + w0/w[1,0]\n",
    "    x2 = 600#有边界\n",
    "    y2 = - w[0,0] * x2 / w[1,0] + w0/w[1,0]\n",
    "    plt.plot([x1, x2], [y1, y2], 'r')\n",
    "\n"
   ]
  },
  {
   "cell_type": "code",
   "execution_count": 13,
   "metadata": {},
   "outputs": [
    {
     "data": {
      "text/plain": [
       "(2,)"
      ]
     },
     "execution_count": 13,
     "metadata": {},
     "output_type": "execute_result"
    }
   ],
   "source": [
    "w_star.shape"
   ]
  },
  {
   "cell_type": "code",
   "execution_count": 7,
   "metadata": {},
   "outputs": [],
   "source": [
    "data,train_data,train_label,test_data,test_label=read_image();\n",
    "pca=PCA(n_components=2)\n",
    "pca.fit(data)\n",
    "new_train_data=pca.fit_transform(train_data)\n",
    "new_test_data=pca.fit_transform(test_data)\n"
   ]
  },
  {
   "cell_type": "code",
   "execution_count": 8,
   "metadata": {},
   "outputs": [
    {
     "data": {
      "text/plain": [
       "array([[  39.5392097 ,  -48.23393704],\n",
       "       [ 253.41650477,  335.02507101],\n",
       "       [ 489.35489913,  552.50156784],\n",
       "       [ 100.18039223,   48.99575378],\n",
       "       [ 711.94301814, -442.45815878],\n",
       "       [ 596.4836973 ,  341.77506308],\n",
       "       [ 527.40509308, -461.26078368],\n",
       "       [ 327.49970493, -138.96335549],\n",
       "       [-348.39481593, -132.09781853],\n",
       "       [-331.08573095,  -72.78278395],\n",
       "       [-428.58042125,   44.70650403],\n",
       "       [-408.2191111 ,  -54.48853215],\n",
       "       [-438.30268631,   56.14758017],\n",
       "       [-303.63545787,  -59.88205287],\n",
       "       [-455.53256683,  120.0678003 ],\n",
       "       [-332.07172904,  -89.05191771]])"
      ]
     },
     "execution_count": 8,
     "metadata": {},
     "output_type": "execute_result"
    }
   ],
   "source": [
    "new_train_data"
   ]
  },
  {
   "cell_type": "code",
   "execution_count": 9,
   "metadata": {},
   "outputs": [
    {
     "data": {
      "text/plain": [
       "array([[ 427.71529601,  327.79844478],\n",
       "       [ 692.25358885, -285.11725081],\n",
       "       [-456.86803202,  139.97333227],\n",
       "       [-663.10085283, -182.65452624]])"
      ]
     },
     "execution_count": 9,
     "metadata": {},
     "output_type": "execute_result"
    }
   ],
   "source": [
    "new_test_data"
   ]
  },
  {
   "cell_type": "code",
   "execution_count": 13,
   "metadata": {},
   "outputs": [
    {
     "name": "stdout",
     "output_type": "stream",
     "text": [
      "第二个人\n",
      "第二个人\n",
      "第一个人\n",
      "第一个人\n"
     ]
    },
    {
     "data": {
      "image/png": "[encoded data removed]",
      "text/plain": [
       "<Figure size 432x288 with 1 Axes>"
      ]
     },
     "metadata": {
      "needs_background": "light"
     },
     "output_type": "display_data"
    }
   ],
   "source": [
    "data,train_data,train_label,test_data,test_label=read_image();\n",
    "pca=PCA(n_components=2)\n",
    "pca.fit(data)\n",
    "new_train_data=pca.fit_transform(train_data)\n",
    "new_test_data=pca.fit_transform(test_data)\n",
    "\n",
    "\n",
    "w_star,w0=LDA(new_train_data,train_label,0,1)\n",
    "# print(w_star)\n",
    "# w0=1/2*(np.dot(w_star.T,mju1)+np.dot(w_star.T,mju2))\n",
    "draw_line(w_star,w0)\n",
    "\n",
    "\n",
    "\n",
    "chinese = matplotlib.font_manager.FontProperties(fname='C:\\Windows\\Fonts\\simkai.ttf')\n",
    "plt.scatter(new_train_data[:8, 0],new_train_data[:8, 1], color='blue', marker='o', label='第一个人')\n",
    "plt.scatter(new_train_data[8:, 0],new_train_data[8:, 1], color='red', marker='x', label='第二个人')\n",
    "plt.title(\"二分类效果图\",font = chinese)\n",
    "# 画测试集的位置\n",
    "for samples in new_test_data:\n",
    "    if judge(w_star,w0,samples):\n",
    "#         print(samples)\n",
    "        plt.scatter(samples[0],samples[1], color='green', marker='o')\n",
    "    else:\n",
    "        plt.scatter(samples[0],samples[1], color='red', marker='o')\n",
    "# plt.scatter(samples[0], samples[1], color='green', marker='o',label='待判断')\n",
    "plt.legend(prop=chinese,loc='lower left')  # 显示中文图例。如果是英文图例，括号里面不加东西\n",
    "plt.show()\n",
    "# data1,train_data1,text_data1"
   ]
  },
  {
   "cell_type": "code",
   "execution_count": null,
   "metadata": {},
   "outputs": [],
   "source": []
  },
  {
   "cell_type": "code",
   "execution_count": null,
   "metadata": {},
   "outputs": [],
   "source": []
  }
 ],
 "metadata": {
  "kernelspec": {
   "display_name": "Python 3",
   "language": "python",
   "name": "python3"
  },
  "language_info": {
   "codemirror_mode": {
    "name": "ipython",
    "version": 3
   },
   "file_extension": ".py",
   "mimetype": "text/x-python",
   "name": "python",
   "nbconvert_exporter": "python",
   "pygments_lexer": "ipython3",
   "version": "3.7.3"
  }
 },
 "nbformat": 4,
 "nbformat_minor": 2
}
